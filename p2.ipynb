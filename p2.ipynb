{
 "cells": [
  {
   "cell_type": "code",
   "execution_count": 178,
   "metadata": {},
   "outputs": [],
   "source": [
    "import numpy as np\n",
    "from scipy.stats import ortho_group\n",
    "x = [1]\n",
    "m = len(x)\n",
    "M = 10\n",
    "B = 1\n",
    "\n",
    "alpha = np.random.uniform(0, M, size=len(x))\n",
    "beta  = np.random.uniform(1, B, size=len(x))\n",
    "sigma = np.random.uniform(0,2*np.pi, size=len(x))"
   ]
  },
  {
   "cell_type": "code",
   "execution_count": 179,
   "metadata": {},
   "outputs": [],
   "source": [
    "def func(x):\n",
    "    x = np.array(x, dtype=float)\n",
    "    # 1/2 z^2\n",
    "    front = .5 * np.multiply(x,x)\n",
    "    # inner = Beta_i *z + sigma_i\n",
    "    inner = np.array([ np.add(np.multiply(beta[i], x),sigma[i]) for i in range(0,m)])\n",
    "    # inner = cos(inner)\n",
    "    inner = np.cos(inner)\n",
    "    # inner = alpha_i * cos(inner)_i\n",
    "    inner = np.multiply(alpha, inner)\n",
    "    return front + inner"
   ]
  },
  {
   "cell_type": "code",
   "execution_count": 180,
   "metadata": {},
   "outputs": [
    {
     "data": {
      "text/plain": [
       "array([[-0.70463936]])"
      ]
     },
     "execution_count": 180,
     "metadata": {},
     "output_type": "execute_result"
    }
   ],
   "source": [
    "func(x)"
   ]
  },
  {
   "cell_type": "code",
   "execution_count": 181,
   "metadata": {},
   "outputs": [],
   "source": [
    "x = []\n",
    "y = []\n",
    "for i in range(0,10):\n",
    "    x.append(-i)\n",
    "    y.append(func(-i))\n",
    "for i in range(1,10):\n",
    "    x.append(i)\n",
    "    y.append(func(i))"
   ]
  },
  {
   "cell_type": "code",
   "execution_count": 182,
   "metadata": {},
   "outputs": [
    {
     "data": {
      "text/plain": [
       "<matplotlib.collections.PathCollection at 0x7fcfe055a9e8>"
      ]
     },
     "execution_count": 182,
     "metadata": {},
     "output_type": "execute_result"
    },
    {
     "data": {
      "image/png": "[encoded data removed]",
      "text/plain": [
       "<Figure size 432x288 with 1 Axes>"
      ]
     },
     "metadata": {
      "needs_background": "light"
     },
     "output_type": "display_data"
    }
   ],
   "source": [
    "plt.scatter(x,y)"
   ]
  },
  {
   "cell_type": "code",
   "execution_count": null,
   "metadata": {},
   "outputs": [],
   "source": []
  },
  {
   "cell_type": "code",
   "execution_count": null,
   "metadata": {},
   "outputs": [],
   "source": []
  }
 ],
 "metadata": {
  "kernelspec": {
   "display_name": "Python 3",
   "language": "python",
   "name": "python3"
  },
  "language_info": {
   "codemirror_mode": {
    "name": "ipython",
    "version": 3
   },
   "file_extension": ".py",
   "mimetype": "text/x-python",
   "name": "python",
   "nbconvert_exporter": "python",
   "pygments_lexer": "ipython3",
   "version": "3.7.3"
  }
 },
 "nbformat": 4,
 "nbformat_minor": 4
}
