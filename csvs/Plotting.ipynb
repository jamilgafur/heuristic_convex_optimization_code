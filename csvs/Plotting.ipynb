{
 "cells": [
  {
   "cell_type": "code",
   "execution_count": 21,
   "metadata": {},
   "outputs": [],
   "source": [
    "import matplotlib.pyplot as plt\n",
    "import numpy as np\n",
    "import pandas as pd\n",
    "np.random.seed(10)\n",
    "\n",
    "# these need to be the points\n",
    "collectn_1 = np.random.normal(100,10, 5)\n",
    "collectn_2 = np.random.normal(80, 30, 5)\n"
   ]
  },
  {
   "cell_type": "code",
   "execution_count": 22,
   "metadata": {},
   "outputs": [
    {
     "data": {
      "image/png": "[encoded data removed]",
      "text/plain": [
       "<Figure size 432x288 with 1 Axes>"
      ]
     },
     "metadata": {
      "needs_background": "light"
     },
     "output_type": "display_data"
    }
   ],
   "source": [
    "# combine them together\n",
    "data_to_plot = [collectn_1, collectn_2]\n",
    "plt.violinplot(data_to_plot)\n",
    "plt.show()"
   ]
  },
  {
   "cell_type": "code",
   "execution_count": null,
   "metadata": {},
   "outputs": [],
   "source": []
  },
  {
   "cell_type": "code",
   "execution_count": 24,
   "metadata": {},
   "outputs": [
    {
     "name": "stdout",
     "output_type": "stream",
     "text": [
      "we are processing the following files: ['GA_prob_2_pop_50_k_3_n_5.csv', 'GA_prob_1_pop_50_k_3_n_5.csv']\n",
      "obtaining values from: \n",
      "\tGA_prob_2_pop_50_k_3_n_5.csv\n",
      "obtaining values from: \n",
      "\tGA_prob_1_pop_50_k_3_n_5.csv\n"
     ]
    }
   ],
   "source": [
    "import os\n",
    "from os import listdir\n",
    "from os.path import isfile, join\n",
    "onlyfiles = [f for f in listdir('.') if isfile(join(os.getcwd(), f)) and \"csv\" in f and \"all\" not in f]\n",
    "print(\"we are processing the following files: \" + str(onlyfiles))\n",
    "\n",
    "data_to_plot = []\n",
    "for single_file in onlyfiles:\n",
    "    print(\"obtaining values from: \\n\\t\" + str(single_file))\n",
    "    file = open(single_file)\n",
    "    collection = []\n",
    "    for lines in file.readlines():\n",
    "        for value in lines.split(','):\n",
    "            collection.append(float(value))\n",
    "    data_to_plot.append(np.array(collection))"
   ]
  },
  {
   "cell_type": "code",
   "execution_count": 25,
   "metadata": {},
   "outputs": [
    {
     "name": "stdout",
     "output_type": "stream",
     "text": [
      "plotting data\n"
     ]
    },
    {
     "data": {
      "image/png": "[encoded data removed]",
      "text/plain": [
       "<Figure size 432x288 with 1 Axes>"
      ]
     },
     "metadata": {
      "needs_background": "light"
     },
     "output_type": "display_data"
    }
   ],
   "source": [
    "print(\"plotting data\")\n",
    "plt.violinplot(data_to_plot, )\n",
    "plt.show()"
   ]
  },
  {
   "cell_type": "code",
   "execution_count": null,
   "metadata": {},
   "outputs": [],
   "source": []
  }
 ],
 "metadata": {
  "kernelspec": {
   "display_name": "Python 3",
   "language": "python",
   "name": "python3"
  },
  "language_info": {
   "codemirror_mode": {
    "name": "ipython",
    "version": 3
   },
   "file_extension": ".py",
   "mimetype": "text/x-python",
   "name": "python",
   "nbconvert_exporter": "python",
   "pygments_lexer": "ipython3",
   "version": "3.7.3"
  }
 },
 "nbformat": 4,
 "nbformat_minor": 2
}
